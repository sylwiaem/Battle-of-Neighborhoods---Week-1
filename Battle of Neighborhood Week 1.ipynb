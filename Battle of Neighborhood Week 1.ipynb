{
    "cells": [
        {
            "cell_type": "markdown",
            "metadata": {
                "collapsed": true
            },
            "source": "# Housing Sales Prices and Venues Analysis for Liverpool "
        },
        {
            "cell_type": "markdown",
            "metadata": {},
            "source": "## Introduction and Buisness problem "
        },
        {
            "cell_type": "markdown",
            "metadata": {},
            "source": "### Description and Discussion of the Background"
        },
        {
            "cell_type": "markdown",
            "metadata": {},
            "source": "#### Liverpool is a city and metropolitan borough in Merseyside, England. The population in 2019 was approximately 498,042. Liverpool is the ninth-largest English district by population, and the largest in Merseyside and the surrounding region. It lies within the UK's sixth-most populous urban area, and its metropolitan area is the fifth-largest in the UK with a population of 2.24 million. Liverpool is the sixth-most-visited UK city. It is noted for its culture, architecture, and transport links. The city is closely associated with the arts, especially music; the popularity of the Beatles, widely regarded as the most influential music group in history, contributed to the city's status as a tourist destination. Since then, Liverpool has continued to produce many notable musical acts and record labels\u2014musicians from Liverpool have produced 56 No. 1 hit singles, more than any other city in the world. Liverpool also has a long-standing reputation as the origin of various actors and actresses, artists, athletes, comedians, journalists, novelists, and poets. The city has the second-highest number of art galleries, national museums, listed buildings, and listed parks in the UK; only the capital, London, has more. The Liverpool Maritime Mercantile City includes the Pier Head, Albert Dock, and William Brown Street. In sports, the city is best known for being the home of Premier League football clubs Liverpool and Everton, with matches between the two being known as the Merseyside derby. The annual Grand National horse race takes place at Aintree Racecourse."
        },
        {
            "cell_type": "markdown",
            "metadata": {},
            "source": "#### Several areas of the city centre were granted World Heritage Site status by UNESCO in 2004, and its collection of parks and open spaces has been described as the \"most important in the country\" by the Register of Historic Parks and Gardens of Special Historic Interest. Its status as a port city has attracted a diverse population from a wide range of cultures and religions, primarily Ireland, Norway, and Wales. It is also home to the oldest black community in the UK and the oldest Chinese community in Europe. Natives and longtime residents of Liverpool are formally referred to as \"Liverpudlians\" but are more often called \"Scousers\", a reference to the form of stew made popular by sailors in the city and the most common name for the Liverpool accent and dialect. The city celebrated its 800th anniversary in 2007 and was named the 2008 European Capital of Culture, jointly with Stavanger, Norway."
        },
        {
            "cell_type": "markdown",
            "metadata": {},
            "source": "#### Liverpool is divided into approximately 50 postocode areas. This is a group of postcode districts in north-west England, which are subdivisions of four post towns. These cover most of Merseyside (including Liverpool, Bootle and Prescot), part of west Lancashire (including Ormskirk) and a small part of north-west Cheshire."
        },
        {
            "cell_type": "markdown",
            "metadata": {},
            "source": "#### As mentioned before Liverpool is a city with a high population and population denisty hence it might be a challange for investors to find a best place to open their buisness taking into account a lower real estate costs and depending on the nature of their business also less competetive area. On the other hand residents of the city might be more intrested in a lower properies prices but areas that are more attractive due to majority of a social places. Unfortunately this information is not easy to find nowadays that will guide investors which district/areas to choose taking into account these indexes. "
        },
        {
            "cell_type": "markdown",
            "metadata": {},
            "source": "### Data description"
        },
        {
            "cell_type": "markdown",
            "metadata": {},
            "source": "#### To find a solution of this problem I followed these steps to gather and analyze data:\n\n#### - Obtained a list of postocdes and areas of City of Liverpool  from doogal.co.uk . The csv file consists of many vauable information and coordinates for each postocde areas. File required data cleaning but consist of coordinates of all areas.\n#### - Obtained a data of average house prices (collected by postodes) from website https://propertydata.co.uk/cities/liverpool, coverted the data into a data frame and cleaned and removed unnecessary data. \n#### - Combined two data frame together.\n#### - Used Forsquare API to get the most common venues of areas of Liverpool. \n#### - Created a graphs, tables and maps to show the results. "
        },
        {
            "cell_type": "markdown",
            "metadata": {},
            "source": "### References"
        },
        {
            "cell_type": "markdown",
            "metadata": {},
            "source": "#### 1. https://en.wikipedia.org/wiki/L_postcode_area\n#### 2. https://en.wikipedia.org/wiki/Liverpool\n#### 3. https://www.doogal.co.uk/UKPostcodes.php?Search=L\n#### 4. https://propertydata.co.uk/cities/liverpool"
        },
        {
            "cell_type": "code",
            "execution_count": null,
            "metadata": {},
            "outputs": [],
            "source": ""
        }
    ],
    "metadata": {
        "kernelspec": {
            "display_name": "Python 3.6",
            "language": "python",
            "name": "python3"
        },
        "language_info": {
            "codemirror_mode": {
                "name": "ipython",
                "version": 3
            },
            "file_extension": ".py",
            "mimetype": "text/x-python",
            "name": "python",
            "nbconvert_exporter": "python",
            "pygments_lexer": "ipython3",
            "version": "3.6.9"
        }
    },
    "nbformat": 4,
    "nbformat_minor": 1
}